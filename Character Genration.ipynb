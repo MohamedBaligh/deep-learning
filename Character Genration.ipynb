{
 "cells": [
  {
   "cell_type": "code",
   "execution_count": 31,
   "metadata": {},
   "outputs": [],
   "source": [
    "text = open('Data/aliceinwonderland.txt')"
   ]
  },
  {
   "cell_type": "code",
   "execution_count": 32,
   "metadata": {},
   "outputs": [],
   "source": [
    "aiwdata = text.read()"
   ]
  },
  {
   "cell_type": "code",
   "execution_count": 33,
   "metadata": {},
   "outputs": [],
   "source": [
    "import string"
   ]
  },
  {
   "cell_type": "code",
   "execution_count": 34,
   "metadata": {},
   "outputs": [
    {
     "data": {
      "text/plain": [
       "'!\"#$%&\\'()*+,-./:;<=>?@[\\\\]^_`{|}~'"
      ]
     },
     "execution_count": 34,
     "metadata": {},
     "output_type": "execute_result"
    }
   ],
   "source": [
    "string.punctuation"
   ]
  },
  {
   "cell_type": "code",
   "execution_count": 35,
   "metadata": {},
   "outputs": [],
   "source": [
    "aiwdata = aiwdata.replace(string.punctuation, ' ')"
   ]
  },
  {
   "cell_type": "raw",
   "metadata": {},
   "source": []
  },
  {
   "cell_type": "code",
   "execution_count": 37,
   "metadata": {},
   "outputs": [],
   "source": [
    "aiwdata = aiwdata.replace('\\n','')"
   ]
  },
  {
   "cell_type": "code",
   "execution_count": 39,
   "metadata": {},
   "outputs": [],
   "source": [
    "vocab = set(list(aiwdata))"
   ]
  },
  {
   "cell_type": "code",
   "execution_count": 41,
   "metadata": {},
   "outputs": [
    {
     "data": {
      "text/plain": [
       "83"
      ]
     },
     "execution_count": 41,
     "metadata": {},
     "output_type": "execute_result"
    }
   ],
   "source": [
    "len(vocab)"
   ]
  },
  {
   "cell_type": "code",
   "execution_count": 42,
   "metadata": {},
   "outputs": [
    {
     "data": {
      "text/plain": [
       "160074"
      ]
     },
     "execution_count": 42,
     "metadata": {},
     "output_type": "execute_result"
    }
   ],
   "source": [
    "len(aiwdata)"
   ]
  },
  {
   "cell_type": "code",
   "execution_count": 43,
   "metadata": {},
   "outputs": [],
   "source": [
    "tokenizer = {}"
   ]
  },
  {
   "cell_type": "code",
   "execution_count": 79,
   "metadata": {},
   "outputs": [],
   "source": [
    "for ct,v in enumerate(vocab):\n",
    "    tokenizer[v] = ct + 1"
   ]
  },
  {
   "cell_type": "code",
   "execution_count": 80,
   "metadata": {},
   "outputs": [
    {
     "data": {
      "text/plain": [
       "{' ': 76,\n",
       " '!': 61,\n",
       " '\"': 64,\n",
       " '#': 45,\n",
       " '$': 52,\n",
       " '%': 30,\n",
       " \"'\": 41,\n",
       " '(': 20,\n",
       " ')': 74,\n",
       " '*': 24,\n",
       " ',': 22,\n",
       " '-': 59,\n",
       " '.': 14,\n",
       " '/': 53,\n",
       " '0': 27,\n",
       " '1': 48,\n",
       " '2': 51,\n",
       " '3': 58,\n",
       " '4': 29,\n",
       " '5': 18,\n",
       " '6': 39,\n",
       " '7': 78,\n",
       " '8': 32,\n",
       " '9': 60,\n",
       " ':': 37,\n",
       " ';': 35,\n",
       " '?': 7,\n",
       " '@': 80,\n",
       " 'A': 79,\n",
       " 'B': 40,\n",
       " 'C': 3,\n",
       " 'D': 66,\n",
       " 'E': 63,\n",
       " 'F': 81,\n",
       " 'G': 43,\n",
       " 'H': 54,\n",
       " 'I': 21,\n",
       " 'J': 15,\n",
       " 'K': 34,\n",
       " 'L': 56,\n",
       " 'M': 82,\n",
       " 'N': 71,\n",
       " 'O': 25,\n",
       " 'P': 28,\n",
       " 'Q': 38,\n",
       " 'R': 50,\n",
       " 'S': 68,\n",
       " 'T': 10,\n",
       " 'U': 19,\n",
       " 'V': 57,\n",
       " 'W': 47,\n",
       " 'X': 83,\n",
       " 'Y': 11,\n",
       " 'Z': 36,\n",
       " '[': 77,\n",
       " ']': 5,\n",
       " '_': 62,\n",
       " 'a': 55,\n",
       " 'b': 17,\n",
       " 'c': 1,\n",
       " 'd': 6,\n",
       " 'e': 4,\n",
       " 'f': 46,\n",
       " 'g': 23,\n",
       " 'h': 72,\n",
       " 'i': 13,\n",
       " 'j': 16,\n",
       " 'k': 65,\n",
       " 'l': 42,\n",
       " 'm': 12,\n",
       " 'n': 44,\n",
       " 'o': 26,\n",
       " 'p': 8,\n",
       " 'q': 69,\n",
       " 'r': 9,\n",
       " 's': 70,\n",
       " 't': 67,\n",
       " 'u': 2,\n",
       " 'v': 31,\n",
       " 'w': 73,\n",
       " 'x': 75,\n",
       " 'y': 33,\n",
       " 'z': 49}"
      ]
     },
     "execution_count": 80,
     "metadata": {},
     "output_type": "execute_result"
    }
   ],
   "source": [
    "tokenizer"
   ]
  },
  {
   "cell_type": "code",
   "execution_count": 81,
   "metadata": {},
   "outputs": [],
   "source": [
    "data_list = []\n",
    "for c in aiwdata:\n",
    "    data_list.append(tokenizer[c])"
   ]
  },
  {
   "cell_type": "code",
   "execution_count": 82,
   "metadata": {},
   "outputs": [
    {
     "data": {
      "text/plain": [
       "160000"
      ]
     },
     "execution_count": 82,
     "metadata": {},
     "output_type": "execute_result"
    }
   ],
   "source": [
    "len(data_list[:160000])"
   ]
  },
  {
   "cell_type": "code",
   "execution_count": 83,
   "metadata": {},
   "outputs": [],
   "source": [
    "data_list = data_list[:160000]"
   ]
  },
  {
   "cell_type": "code",
   "execution_count": 84,
   "metadata": {},
   "outputs": [],
   "source": [
    "trainX = []\n",
    "trainY = []"
   ]
  },
  {
   "cell_type": "code",
   "execution_count": 85,
   "metadata": {},
   "outputs": [],
   "source": [
    "cnt = 0\n",
    "while True:\n",
    "    trainX.append(data_list[cnt:cnt+100])\n",
    "    trainY.append(data_list[cnt+100])\n",
    "    cnt += 1\n",
    "    if cnt+101 > 160000:\n",
    "        break"
   ]
  },
  {
   "cell_type": "code",
   "execution_count": 86,
   "metadata": {},
   "outputs": [],
   "source": [
    "import numpy as np"
   ]
  },
  {
   "cell_type": "code",
   "execution_count": 87,
   "metadata": {},
   "outputs": [],
   "source": [
    "X = np.array(trainX)"
   ]
  },
  {
   "cell_type": "code",
   "execution_count": 88,
   "metadata": {},
   "outputs": [
    {
     "data": {
      "text/plain": [
       "(159900, 100)"
      ]
     },
     "execution_count": 88,
     "metadata": {},
     "output_type": "execute_result"
    }
   ],
   "source": [
    "X.shape"
   ]
  },
  {
   "cell_type": "code",
   "execution_count": 89,
   "metadata": {},
   "outputs": [],
   "source": [
    "Y = np.array(trainY)"
   ]
  },
  {
   "cell_type": "code",
   "execution_count": 90,
   "metadata": {},
   "outputs": [
    {
     "data": {
      "text/plain": [
       "(159900,)"
      ]
     },
     "execution_count": 90,
     "metadata": {},
     "output_type": "execute_result"
    }
   ],
   "source": [
    "Y.shape"
   ]
  },
  {
   "cell_type": "code",
   "execution_count": 106,
   "metadata": {},
   "outputs": [],
   "source": [
    "from keras.utils import to_categorical"
   ]
  },
  {
   "cell_type": "code",
   "execution_count": 107,
   "metadata": {},
   "outputs": [],
   "source": [
    "Y = to_categorical(Y)"
   ]
  },
  {
   "cell_type": "code",
   "execution_count": 92,
   "metadata": {},
   "outputs": [],
   "source": [
    "from keras.layers import LSTM,Dense,Embedding\n",
    "from keras.models import Sequential"
   ]
  },
  {
   "cell_type": "code",
   "execution_count": 109,
   "metadata": {},
   "outputs": [
    {
     "name": "stdout",
     "output_type": "stream",
     "text": [
      "_________________________________________________________________\n",
      "Layer (type)                 Output Shape              Param #   \n",
      "=================================================================\n",
      "embedding_4 (Embedding)      (None, 100, 28)           2352      \n",
      "_________________________________________________________________\n",
      "lstm_2 (LSTM)                (None, 64)                23808     \n",
      "_________________________________________________________________\n",
      "dense_2 (Dense)              (None, 84)                5460      \n",
      "=================================================================\n",
      "Total params: 31,620\n",
      "Trainable params: 31,620\n",
      "Non-trainable params: 0\n",
      "_________________________________________________________________\n"
     ]
    }
   ],
   "source": [
    "model = Sequential()\n",
    "model.add(Embedding(input_dim=84, output_dim=28,input_length=100))\n",
    "model.add(LSTM(64))\n",
    "model.add(Dense(84, activation='softmax'))\n",
    "model.summary()"
   ]
  },
  {
   "cell_type": "code",
   "execution_count": 110,
   "metadata": {},
   "outputs": [],
   "source": [
    "model.compile(loss='categorical_crossentropy', metrics=['accuracy'], optimizer='rmsprop')"
   ]
  },
  {
   "cell_type": "code",
   "execution_count": 111,
   "metadata": {},
   "outputs": [
    {
     "name": "stdout",
     "output_type": "stream",
     "text": [
      "Train on 143910 samples, validate on 15990 samples\n",
      "Epoch 1/5\n",
      "143910/143910 [==============================] - 165s 1ms/step - loss: 2.5133 - acc: 0.3169 - val_loss: 2.8162 - val_acc: 0.2708\n",
      "Epoch 2/5\n",
      "143910/143910 [==============================] - 162s 1ms/step - loss: 2.1383 - acc: 0.4133 - val_loss: 2.7408 - val_acc: 0.2986\n",
      "Epoch 3/5\n",
      "143910/143910 [==============================] - 162s 1ms/step - loss: 1.9872 - acc: 0.4539 - val_loss: 2.6848 - val_acc: 0.3078\n",
      "Epoch 4/5\n",
      "143910/143910 [==============================] - 154s 1ms/step - loss: 1.8886 - acc: 0.4788 - val_loss: 2.6715 - val_acc: 0.3133\n",
      "Epoch 5/5\n",
      "143910/143910 [==============================] - 154s 1ms/step - loss: 1.8164 - acc: 0.4966 - val_loss: 2.6066 - val_acc: 0.3304\n"
     ]
    },
    {
     "data": {
      "text/plain": [
       "<keras.callbacks.History at 0x16d165d4b38>"
      ]
     },
     "execution_count": 111,
     "metadata": {},
     "output_type": "execute_result"
    }
   ],
   "source": [
    "model.fit(X,Y, epochs=5, batch_size=50, validation_split=.1)"
   ]
  },
  {
   "cell_type": "code",
   "execution_count": 113,
   "metadata": {},
   "outputs": [
    {
     "data": {
      "text/plain": [
       "array([76], dtype=int64)"
      ]
     },
     "execution_count": 113,
     "metadata": {},
     "output_type": "execute_result"
    }
   ],
   "source": [
    "model.predict_classes(X[:1])"
   ]
  },
  {
   "cell_type": "code",
   "execution_count": 114,
   "metadata": {},
   "outputs": [],
   "source": [
    "d = X[:1]"
   ]
  },
  {
   "cell_type": "code",
   "execution_count": 115,
   "metadata": {},
   "outputs": [
    {
     "data": {
      "text/plain": [
       "array([[28,  9, 26, 16,  4,  1, 67, 76, 43,  2, 67,  4, 44, 17,  4,  9,\n",
       "        23, 41, 70, 76, 79, 42, 13,  1,  4, 41, 70, 76, 79,  6, 31,  4,\n",
       "        44, 67,  2,  9,  4, 70, 76, 13, 44, 76, 47, 26, 44,  6,  4,  9,\n",
       "        42, 55, 44,  6, 22, 76, 17, 33, 76, 56,  4, 73, 13, 70, 76,  3,\n",
       "        55,  9,  9, 26, 42, 42, 10, 72, 13, 70, 76,  4, 40, 26, 26, 65,\n",
       "        76, 13, 70, 76, 46, 26,  9, 76, 67, 72,  4, 76,  2, 70,  4, 76,\n",
       "        26, 46, 76, 55]])"
      ]
     },
     "execution_count": 115,
     "metadata": {},
     "output_type": "execute_result"
    }
   ],
   "source": [
    "d"
   ]
  },
  {
   "cell_type": "code",
   "execution_count": 123,
   "metadata": {},
   "outputs": [],
   "source": [
    "d = np.concatenate([d[0][1:],[76]])"
   ]
  },
  {
   "cell_type": "code",
   "execution_count": 128,
   "metadata": {},
   "outputs": [
    {
     "data": {
      "text/plain": [
       "array([42], dtype=int64)"
      ]
     },
     "execution_count": 128,
     "metadata": {},
     "output_type": "execute_result"
    }
   ],
   "source": [
    "model.predict_classes(d.reshape(1,100))"
   ]
  },
  {
   "cell_type": "code",
   "execution_count": 129,
   "metadata": {},
   "outputs": [
    {
     "data": {
      "text/plain": [
       "{' ': 76,\n",
       " '!': 61,\n",
       " '\"': 64,\n",
       " '#': 45,\n",
       " '$': 52,\n",
       " '%': 30,\n",
       " \"'\": 41,\n",
       " '(': 20,\n",
       " ')': 74,\n",
       " '*': 24,\n",
       " ',': 22,\n",
       " '-': 59,\n",
       " '.': 14,\n",
       " '/': 53,\n",
       " '0': 27,\n",
       " '1': 48,\n",
       " '2': 51,\n",
       " '3': 58,\n",
       " '4': 29,\n",
       " '5': 18,\n",
       " '6': 39,\n",
       " '7': 78,\n",
       " '8': 32,\n",
       " '9': 60,\n",
       " ':': 37,\n",
       " ';': 35,\n",
       " '?': 7,\n",
       " '@': 80,\n",
       " 'A': 79,\n",
       " 'B': 40,\n",
       " 'C': 3,\n",
       " 'D': 66,\n",
       " 'E': 63,\n",
       " 'F': 81,\n",
       " 'G': 43,\n",
       " 'H': 54,\n",
       " 'I': 21,\n",
       " 'J': 15,\n",
       " 'K': 34,\n",
       " 'L': 56,\n",
       " 'M': 82,\n",
       " 'N': 71,\n",
       " 'O': 25,\n",
       " 'P': 28,\n",
       " 'Q': 38,\n",
       " 'R': 50,\n",
       " 'S': 68,\n",
       " 'T': 10,\n",
       " 'U': 19,\n",
       " 'V': 57,\n",
       " 'W': 47,\n",
       " 'X': 83,\n",
       " 'Y': 11,\n",
       " 'Z': 36,\n",
       " '[': 77,\n",
       " ']': 5,\n",
       " '_': 62,\n",
       " 'a': 55,\n",
       " 'b': 17,\n",
       " 'c': 1,\n",
       " 'd': 6,\n",
       " 'e': 4,\n",
       " 'f': 46,\n",
       " 'g': 23,\n",
       " 'h': 72,\n",
       " 'i': 13,\n",
       " 'j': 16,\n",
       " 'k': 65,\n",
       " 'l': 42,\n",
       " 'm': 12,\n",
       " 'n': 44,\n",
       " 'o': 26,\n",
       " 'p': 8,\n",
       " 'q': 69,\n",
       " 'r': 9,\n",
       " 's': 70,\n",
       " 't': 67,\n",
       " 'u': 2,\n",
       " 'v': 31,\n",
       " 'w': 73,\n",
       " 'x': 75,\n",
       " 'y': 33,\n",
       " 'z': 49}"
      ]
     },
     "execution_count": 129,
     "metadata": {},
     "output_type": "execute_result"
    }
   ],
   "source": [
    "tokenizer"
   ]
  },
  {
   "cell_type": "code",
   "execution_count": null,
   "metadata": {},
   "outputs": [],
   "source": []
  }
 ],
 "metadata": {
  "kernelspec": {
   "display_name": "Python 3",
   "language": "python",
   "name": "python3"
  },
  "language_info": {
   "codemirror_mode": {
    "name": "ipython",
    "version": 3
   },
   "file_extension": ".py",
   "mimetype": "text/x-python",
   "name": "python",
   "nbconvert_exporter": "python",
   "pygments_lexer": "ipython3",
   "version": "3.6.4"
  }
 },
 "nbformat": 4,
 "nbformat_minor": 2
}
