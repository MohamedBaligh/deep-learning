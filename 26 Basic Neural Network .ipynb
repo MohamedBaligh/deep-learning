{
 "cells": [
  {
   "cell_type": "code",
   "execution_count": 4,
   "metadata": {},
   "outputs": [],
   "source": [
    "import tensorflow as tf"
   ]
  },
  {
   "cell_type": "code",
   "execution_count": 5,
   "metadata": {},
   "outputs": [],
   "source": [
    "import keras"
   ]
  },
  {
   "cell_type": "code",
   "execution_count": 6,
   "metadata": {},
   "outputs": [],
   "source": [
    "from keras.datasets import fashion_mnist, mnist"
   ]
  },
  {
   "cell_type": "code",
   "execution_count": 14,
   "metadata": {},
   "outputs": [],
   "source": [
    "(trainX, trainY), (testX, testY) = fashion_mnist.load_data()"
   ]
  },
  {
   "cell_type": "markdown",
   "metadata": {},
   "source": [
    "### Plotting data"
   ]
  },
  {
   "cell_type": "code",
   "execution_count": 19,
   "metadata": {},
   "outputs": [],
   "source": [
    "import matplotlib.pyplot as plt\n",
    "%matplotlib inline"
   ]
  },
  {
   "cell_type": "code",
   "execution_count": 21,
   "metadata": {},
   "outputs": [
    {
     "data": {
      "text/plain": [
       "<matplotlib.image.AxesImage at 0x23634d09e80>"
      ]
     },
     "execution_count": 21,
     "metadata": {},
     "output_type": "execute_result"
    },
    {
     "data": {
      "image/png": "[encoded data removed]",
      "text/plain": [
       "<Figure size 432x288 with 1 Axes>"
      ]
     },
     "metadata": {},
     "output_type": "display_data"
    }
   ],
   "source": [
    "plt.imshow(trainX[0],cmap='gray')"
   ]
  },
  {
   "cell_type": "code",
   "execution_count": 25,
   "metadata": {},
   "outputs": [
    {
     "data": {
      "text/plain": [
       "(60000, 28, 28)"
      ]
     },
     "execution_count": 25,
     "metadata": {},
     "output_type": "execute_result"
    }
   ],
   "source": [
    "trainX.shape"
   ]
  },
  {
   "cell_type": "markdown",
   "metadata": {},
   "source": [
    "### Scaling Data"
   ]
  },
  {
   "cell_type": "code",
   "execution_count": 28,
   "metadata": {},
   "outputs": [],
   "source": [
    "trainX = trainX/255\n",
    "testX = testX/255"
   ]
  },
  {
   "cell_type": "markdown",
   "metadata": {},
   "source": [
    "### Target to one-hot-vector"
   ]
  },
  {
   "cell_type": "code",
   "execution_count": 32,
   "metadata": {},
   "outputs": [],
   "source": [
    "from keras.utils import to_categorical"
   ]
  },
  {
   "cell_type": "code",
   "execution_count": 34,
   "metadata": {},
   "outputs": [],
   "source": [
    "trainY = to_categorical(trainY)\n",
    "testY = to_categorical(testY)"
   ]
  },
  {
   "cell_type": "markdown",
   "metadata": {},
   "source": [
    "### Building Neural Network Model"
   ]
  },
  {
   "cell_type": "code",
   "execution_count": 36,
   "metadata": {},
   "outputs": [],
   "source": [
    "from keras.models import Sequential\n",
    "from keras.layers import Dense"
   ]
  },
  {
   "cell_type": "code",
   "execution_count": 37,
   "metadata": {},
   "outputs": [],
   "source": []
  },
  {
   "cell_type": "code",
   "execution_count": 42,
   "metadata": {},
   "outputs": [],
   "source": [
    "model = Sequential()\n",
    "model.add(Dense(700, input_dim=784, activation='relu'))\n",
    "model.add(Dense(350, activation='relu'))\n",
    "model.add(Dense(10,  activation='softmax'))"
   ]
  },
  {
   "cell_type": "code",
   "execution_count": 43,
   "metadata": {},
   "outputs": [
    {
     "name": "stdout",
     "output_type": "stream",
     "text": [
      "_________________________________________________________________\n",
      "Layer (type)                 Output Shape              Param #   \n",
      "=================================================================\n",
      "dense_7 (Dense)              (None, 700)               549500    \n",
      "_________________________________________________________________\n",
      "dense_8 (Dense)              (None, 350)               245350    \n",
      "_________________________________________________________________\n",
      "dense_9 (Dense)              (None, 10)                3510      \n",
      "=================================================================\n",
      "Total params: 798,360\n",
      "Trainable params: 798,360\n",
      "Non-trainable params: 0\n",
      "_________________________________________________________________\n"
     ]
    }
   ],
   "source": [
    "model.summary()"
   ]
  },
  {
   "cell_type": "code",
   "execution_count": 44,
   "metadata": {},
   "outputs": [],
   "source": [
    "model.compile(optimizer='sgd',loss='categorical_crossentropy', metrics=['accuracy'])"
   ]
  },
  {
   "cell_type": "code",
   "execution_count": 47,
   "metadata": {},
   "outputs": [
    {
     "data": {
      "text/plain": [
       "(60000, 784)"
      ]
     },
     "execution_count": 47,
     "metadata": {},
     "output_type": "execute_result"
    }
   ],
   "source": [
    "trainX.reshape(-1,784).shape"
   ]
  },
  {
   "cell_type": "code",
   "execution_count": 48,
   "metadata": {},
   "outputs": [
    {
     "name": "stdout",
     "output_type": "stream",
     "text": [
      "Train on 54000 samples, validate on 6000 samples\n",
      "Epoch 1/100\n",
      " - 4s - loss: 1.2353 - acc: 0.6463 - val_loss: 0.8289 - val_acc: 0.7390\n",
      "Epoch 2/100\n",
      " - 4s - loss: 0.7489 - acc: 0.7640 - val_loss: 0.6675 - val_acc: 0.7818\n",
      "Epoch 3/100\n",
      " - 4s - loss: 0.6415 - acc: 0.7952 - val_loss: 0.5987 - val_acc: 0.8025\n",
      "Epoch 4/100\n",
      " - 4s - loss: 0.5858 - acc: 0.8104 - val_loss: 0.5610 - val_acc: 0.8125\n",
      "Epoch 5/100\n",
      " - 4s - loss: 0.5498 - acc: 0.8189 - val_loss: 0.5297 - val_acc: 0.8212\n",
      "Epoch 6/100\n",
      " - 4s - loss: 0.5250 - acc: 0.8257 - val_loss: 0.5097 - val_acc: 0.8265\n",
      "Epoch 7/100\n",
      " - 4s - loss: 0.5059 - acc: 0.8304 - val_loss: 0.5028 - val_acc: 0.8263\n",
      "Epoch 8/100\n",
      " - 4s - loss: 0.4912 - acc: 0.8349 - val_loss: 0.4832 - val_acc: 0.8322\n",
      "Epoch 9/100\n",
      " - 4s - loss: 0.4776 - acc: 0.8382 - val_loss: 0.4835 - val_acc: 0.8293\n",
      "Epoch 10/100\n",
      " - 4s - loss: 0.4681 - acc: 0.8414 - val_loss: 0.4637 - val_acc: 0.8365\n",
      "Epoch 11/100\n",
      " - 4s - loss: 0.4580 - acc: 0.8436 - val_loss: 0.4532 - val_acc: 0.8398\n",
      "Epoch 12/100\n",
      " - 4s - loss: 0.4507 - acc: 0.8466 - val_loss: 0.4594 - val_acc: 0.8382\n",
      "Epoch 13/100\n",
      " - 4s - loss: 0.4437 - acc: 0.8478 - val_loss: 0.4441 - val_acc: 0.8420\n",
      "Epoch 14/100\n",
      " - 4s - loss: 0.4390 - acc: 0.8489 - val_loss: 0.4415 - val_acc: 0.8437\n",
      "Epoch 15/100\n",
      " - 4s - loss: 0.4319 - acc: 0.8516 - val_loss: 0.4348 - val_acc: 0.8460\n",
      "Epoch 16/100\n",
      " - 4s - loss: 0.4255 - acc: 0.8540 - val_loss: 0.4264 - val_acc: 0.8468\n",
      "Epoch 17/100\n",
      " - 4s - loss: 0.4207 - acc: 0.8560 - val_loss: 0.4234 - val_acc: 0.8495\n",
      "Epoch 18/100\n",
      " - 4s - loss: 0.4160 - acc: 0.8582 - val_loss: 0.4211 - val_acc: 0.8495\n",
      "Epoch 19/100\n",
      " - 4s - loss: 0.4121 - acc: 0.8587 - val_loss: 0.4189 - val_acc: 0.8502\n",
      "Epoch 20/100\n",
      " - 4s - loss: 0.4083 - acc: 0.8599 - val_loss: 0.4115 - val_acc: 0.8520\n",
      "Epoch 21/100\n",
      " - 4s - loss: 0.4049 - acc: 0.8619 - val_loss: 0.4188 - val_acc: 0.8517\n",
      "Epoch 22/100\n",
      " - 4s - loss: 0.4011 - acc: 0.8624 - val_loss: 0.4140 - val_acc: 0.8533\n",
      "Epoch 23/100\n",
      " - 4s - loss: 0.3966 - acc: 0.8630 - val_loss: 0.4049 - val_acc: 0.8578\n",
      "Epoch 24/100\n",
      " - 4s - loss: 0.3938 - acc: 0.8650 - val_loss: 0.4069 - val_acc: 0.8588\n",
      "Epoch 25/100\n",
      " - 4s - loss: 0.3926 - acc: 0.8640 - val_loss: 0.4018 - val_acc: 0.8583\n",
      "Epoch 26/100\n",
      " - 4s - loss: 0.3881 - acc: 0.8658 - val_loss: 0.3950 - val_acc: 0.8575\n",
      "Epoch 27/100\n",
      " - 4s - loss: 0.3849 - acc: 0.8673 - val_loss: 0.4027 - val_acc: 0.8562\n",
      "Epoch 28/100\n",
      " - 4s - loss: 0.3820 - acc: 0.8681 - val_loss: 0.3907 - val_acc: 0.8627\n",
      "Epoch 29/100\n",
      " - 4s - loss: 0.3791 - acc: 0.8690 - val_loss: 0.3883 - val_acc: 0.8628\n",
      "Epoch 30/100\n",
      " - 4s - loss: 0.3773 - acc: 0.8701 - val_loss: 0.3878 - val_acc: 0.8658\n",
      "Epoch 31/100\n",
      " - 4s - loss: 0.3743 - acc: 0.8714 - val_loss: 0.3853 - val_acc: 0.8620\n",
      "Epoch 32/100\n",
      " - 4s - loss: 0.3719 - acc: 0.8716 - val_loss: 0.3829 - val_acc: 0.8653\n",
      "Epoch 33/100\n",
      " - 4s - loss: 0.3695 - acc: 0.8728 - val_loss: 0.3814 - val_acc: 0.8643\n",
      "Epoch 34/100\n",
      " - 4s - loss: 0.3666 - acc: 0.8737 - val_loss: 0.3816 - val_acc: 0.8645\n",
      "Epoch 35/100\n",
      " - 4s - loss: 0.3650 - acc: 0.8740 - val_loss: 0.3850 - val_acc: 0.8630\n",
      "Epoch 36/100\n",
      " - 4s - loss: 0.3633 - acc: 0.8744 - val_loss: 0.3809 - val_acc: 0.8622\n",
      "Epoch 37/100\n",
      " - 4s - loss: 0.3611 - acc: 0.8750 - val_loss: 0.3746 - val_acc: 0.8655\n",
      "Epoch 38/100\n",
      " - 4s - loss: 0.3580 - acc: 0.8761 - val_loss: 0.3817 - val_acc: 0.8630\n",
      "Epoch 39/100\n",
      " - 4s - loss: 0.3567 - acc: 0.8774 - val_loss: 0.3794 - val_acc: 0.8668\n",
      "Epoch 40/100\n",
      " - 4s - loss: 0.3545 - acc: 0.8767 - val_loss: 0.3729 - val_acc: 0.8685\n",
      "Epoch 41/100\n",
      " - 4s - loss: 0.3522 - acc: 0.8777 - val_loss: 0.3741 - val_acc: 0.8678\n",
      "Epoch 42/100\n",
      " - 4s - loss: 0.3507 - acc: 0.8782 - val_loss: 0.3674 - val_acc: 0.8688\n",
      "Epoch 43/100\n",
      " - 4s - loss: 0.3487 - acc: 0.8793 - val_loss: 0.3682 - val_acc: 0.8658\n",
      "Epoch 44/100\n",
      " - 4s - loss: 0.3473 - acc: 0.8794 - val_loss: 0.3716 - val_acc: 0.8655\n",
      "Epoch 45/100\n",
      " - 4s - loss: 0.3466 - acc: 0.8789 - val_loss: 0.3684 - val_acc: 0.8668\n",
      "Epoch 46/100\n",
      " - 4s - loss: 0.3434 - acc: 0.8800 - val_loss: 0.3681 - val_acc: 0.8708\n",
      "Epoch 47/100\n",
      " - 4s - loss: 0.3422 - acc: 0.8806 - val_loss: 0.3839 - val_acc: 0.8590\n",
      "Epoch 48/100\n",
      " - 4s - loss: 0.3404 - acc: 0.8819 - val_loss: 0.3601 - val_acc: 0.8693\n",
      "Epoch 49/100\n",
      " - 4s - loss: 0.3382 - acc: 0.8823 - val_loss: 0.3648 - val_acc: 0.8690\n",
      "Epoch 50/100\n",
      " - 4s - loss: 0.3384 - acc: 0.8818 - val_loss: 0.3604 - val_acc: 0.8707\n",
      "Epoch 51/100\n",
      " - 4s - loss: 0.3350 - acc: 0.8835 - val_loss: 0.3598 - val_acc: 0.8728\n",
      "Epoch 52/100\n",
      " - 4s - loss: 0.3329 - acc: 0.8841 - val_loss: 0.3696 - val_acc: 0.8688\n",
      "Epoch 53/100\n",
      " - 4s - loss: 0.3319 - acc: 0.8841 - val_loss: 0.3659 - val_acc: 0.8697\n",
      "Epoch 54/100\n",
      " - 4s - loss: 0.3313 - acc: 0.8841 - val_loss: 0.3679 - val_acc: 0.8685\n",
      "Epoch 55/100\n",
      " - 4s - loss: 0.3291 - acc: 0.8854 - val_loss: 0.3533 - val_acc: 0.8722\n",
      "Epoch 56/100\n",
      " - 4s - loss: 0.3268 - acc: 0.8864 - val_loss: 0.3615 - val_acc: 0.8695\n",
      "Epoch 57/100\n",
      " - 4s - loss: 0.3267 - acc: 0.8857 - val_loss: 0.3616 - val_acc: 0.8715\n",
      "Epoch 58/100\n",
      " - 4s - loss: 0.3249 - acc: 0.8862 - val_loss: 0.3517 - val_acc: 0.8723\n",
      "Epoch 59/100\n",
      " - 4s - loss: 0.3238 - acc: 0.8877 - val_loss: 0.3508 - val_acc: 0.8747\n",
      "Epoch 60/100\n",
      " - 4s - loss: 0.3224 - acc: 0.8872 - val_loss: 0.3714 - val_acc: 0.8695\n",
      "Epoch 61/100\n",
      " - 4s - loss: 0.3211 - acc: 0.8872 - val_loss: 0.3585 - val_acc: 0.8698\n",
      "Epoch 62/100\n",
      " - 4s - loss: 0.3182 - acc: 0.8888 - val_loss: 0.3568 - val_acc: 0.8740\n",
      "Epoch 63/100\n",
      " - 4s - loss: 0.3172 - acc: 0.8891 - val_loss: 0.3585 - val_acc: 0.8737\n",
      "Epoch 64/100\n",
      " - 4s - loss: 0.3162 - acc: 0.8895 - val_loss: 0.3454 - val_acc: 0.8768\n",
      "Epoch 65/100\n",
      " - 4s - loss: 0.3156 - acc: 0.8889 - val_loss: 0.3503 - val_acc: 0.8752\n",
      "Epoch 66/100\n",
      " - 4s - loss: 0.3133 - acc: 0.8901 - val_loss: 0.3567 - val_acc: 0.8768\n",
      "Epoch 67/100\n",
      " - 4s - loss: 0.3115 - acc: 0.8910 - val_loss: 0.3455 - val_acc: 0.8755\n",
      "Epoch 68/100\n",
      " - 4s - loss: 0.3115 - acc: 0.8912 - val_loss: 0.3432 - val_acc: 0.8773\n",
      "Epoch 69/100\n",
      " - 4s - loss: 0.3104 - acc: 0.8917 - val_loss: 0.3635 - val_acc: 0.8690\n",
      "Epoch 70/100\n",
      " - 4s - loss: 0.3082 - acc: 0.8915 - val_loss: 0.3476 - val_acc: 0.8743\n",
      "Epoch 71/100\n",
      " - 4s - loss: 0.3076 - acc: 0.8920 - val_loss: 0.3472 - val_acc: 0.8750\n",
      "Epoch 72/100\n",
      " - 4s - loss: 0.3050 - acc: 0.8936 - val_loss: 0.3604 - val_acc: 0.8740\n",
      "Epoch 73/100\n",
      " - 4s - loss: 0.3053 - acc: 0.8938 - val_loss: 0.3486 - val_acc: 0.8760\n",
      "Epoch 74/100\n",
      " - 4s - loss: 0.3035 - acc: 0.8937 - val_loss: 0.3460 - val_acc: 0.8782\n",
      "Epoch 75/100\n",
      " - 4s - loss: 0.3023 - acc: 0.8951 - val_loss: 0.3418 - val_acc: 0.8790\n",
      "Epoch 76/100\n",
      " - 4s - loss: 0.3003 - acc: 0.8942 - val_loss: 0.3409 - val_acc: 0.8777\n",
      "Epoch 77/100\n",
      " - 4s - loss: 0.2992 - acc: 0.8955 - val_loss: 0.3442 - val_acc: 0.8770\n",
      "Epoch 78/100\n",
      " - 4s - loss: 0.2981 - acc: 0.8951 - val_loss: 0.3389 - val_acc: 0.8783\n",
      "Epoch 79/100\n",
      " - 3s - loss: 0.2966 - acc: 0.8968 - val_loss: 0.3377 - val_acc: 0.8773\n",
      "Epoch 80/100\n",
      " - 4s - loss: 0.2963 - acc: 0.8967 - val_loss: 0.3376 - val_acc: 0.8792\n",
      "Epoch 81/100\n",
      " - 4s - loss: 0.2954 - acc: 0.8965 - val_loss: 0.3463 - val_acc: 0.8758\n",
      "Epoch 82/100\n",
      " - 4s - loss: 0.2933 - acc: 0.8969 - val_loss: 0.3397 - val_acc: 0.8762\n",
      "Epoch 83/100\n",
      " - 4s - loss: 0.2916 - acc: 0.8985 - val_loss: 0.3402 - val_acc: 0.8782\n",
      "Epoch 84/100\n",
      " - 3s - loss: 0.2918 - acc: 0.8972 - val_loss: 0.3364 - val_acc: 0.8810\n",
      "Epoch 85/100\n",
      " - 3s - loss: 0.2905 - acc: 0.8986 - val_loss: 0.3328 - val_acc: 0.8803\n",
      "Epoch 86/100\n",
      " - 4s - loss: 0.2887 - acc: 0.8995 - val_loss: 0.3322 - val_acc: 0.8818\n",
      "Epoch 87/100\n",
      " - 3s - loss: 0.2891 - acc: 0.8993 - val_loss: 0.3557 - val_acc: 0.8720\n",
      "Epoch 88/100\n",
      " - 3s - loss: 0.2873 - acc: 0.8991 - val_loss: 0.3534 - val_acc: 0.8750\n",
      "Epoch 89/100\n",
      " - 3s - loss: 0.2860 - acc: 0.8997 - val_loss: 0.3471 - val_acc: 0.8737\n",
      "Epoch 90/100\n",
      " - 4s - loss: 0.2844 - acc: 0.9011 - val_loss: 0.3362 - val_acc: 0.8775\n",
      "Epoch 91/100\n",
      " - 4s - loss: 0.2829 - acc: 0.9006 - val_loss: 0.3384 - val_acc: 0.8758\n",
      "Epoch 92/100\n",
      " - 4s - loss: 0.2821 - acc: 0.9011 - val_loss: 0.3370 - val_acc: 0.8812\n",
      "Epoch 93/100\n",
      " - 4s - loss: 0.2814 - acc: 0.9019 - val_loss: 0.3336 - val_acc: 0.8785\n",
      "Epoch 94/100\n",
      " - 4s - loss: 0.2808 - acc: 0.9016 - val_loss: 0.3376 - val_acc: 0.8777\n",
      "Epoch 95/100\n",
      " - 3s - loss: 0.2799 - acc: 0.9020 - val_loss: 0.3340 - val_acc: 0.8817\n",
      "Epoch 96/100\n",
      " - 4s - loss: 0.2774 - acc: 0.9030 - val_loss: 0.3295 - val_acc: 0.8818\n",
      "Epoch 97/100\n",
      " - 4s - loss: 0.2768 - acc: 0.9025 - val_loss: 0.3334 - val_acc: 0.8800\n",
      "Epoch 98/100\n",
      " - 4s - loss: 0.2750 - acc: 0.9042 - val_loss: 0.3428 - val_acc: 0.8748\n",
      "Epoch 99/100\n",
      " - 4s - loss: 0.2749 - acc: 0.9035 - val_loss: 0.3558 - val_acc: 0.8708\n",
      "Epoch 100/100\n",
      " - 4s - loss: 0.2746 - acc: 0.9037 - val_loss: 0.3333 - val_acc: 0.8795\n"
     ]
    },
    {
     "data": {
      "text/plain": [
       "<keras.callbacks.History at 0x23606f3e208>"
      ]
     },
     "execution_count": 48,
     "metadata": {},
     "output_type": "execute_result"
    }
   ],
   "source": [
    "model.fit(trainX.reshape(-1,784), trainY, batch_size=256, epochs=100, validation_split=.1, verbose=2)"
   ]
  },
  {
   "cell_type": "code",
   "execution_count": 49,
   "metadata": {},
   "outputs": [
    {
     "name": "stdout",
     "output_type": "stream",
     "text": [
      "Train on 54000 samples, validate on 6000 samples\n",
      "Epoch 1/100\n",
      " - 4s - loss: 0.2723 - acc: 0.9058 - val_loss: 0.3333 - val_acc: 0.8813\n",
      "Epoch 2/100\n",
      " - 4s - loss: 0.2721 - acc: 0.9048 - val_loss: 0.3305 - val_acc: 0.8817\n",
      "Epoch 3/100\n",
      " - 4s - loss: 0.2708 - acc: 0.9048 - val_loss: 0.3365 - val_acc: 0.8780\n",
      "Epoch 4/100\n",
      " - 4s - loss: 0.2697 - acc: 0.9059 - val_loss: 0.3280 - val_acc: 0.8815\n",
      "Epoch 5/100\n",
      " - 4s - loss: 0.2687 - acc: 0.9052 - val_loss: 0.3258 - val_acc: 0.8832\n",
      "Epoch 6/100\n",
      " - 4s - loss: 0.2675 - acc: 0.9066 - val_loss: 0.3244 - val_acc: 0.8828\n",
      "Epoch 7/100\n",
      " - 4s - loss: 0.2680 - acc: 0.9059 - val_loss: 0.3271 - val_acc: 0.8813\n",
      "Epoch 8/100\n",
      " - 4s - loss: 0.2668 - acc: 0.9067 - val_loss: 0.3283 - val_acc: 0.8823\n",
      "Epoch 9/100\n",
      " - 4s - loss: 0.2666 - acc: 0.9060 - val_loss: 0.3298 - val_acc: 0.8800\n",
      "Epoch 10/100\n",
      " - 4s - loss: 0.2660 - acc: 0.9063 - val_loss: 0.3265 - val_acc: 0.8825\n",
      "Epoch 11/100\n",
      " - 4s - loss: 0.2625 - acc: 0.9074 - val_loss: 0.3239 - val_acc: 0.8837\n",
      "Epoch 12/100\n",
      " - 4s - loss: 0.2622 - acc: 0.9082 - val_loss: 0.3246 - val_acc: 0.8820\n",
      "Epoch 13/100\n",
      " - 4s - loss: 0.2606 - acc: 0.9091 - val_loss: 0.3246 - val_acc: 0.8840\n",
      "Epoch 14/100\n",
      " - 4s - loss: 0.2606 - acc: 0.9084 - val_loss: 0.3229 - val_acc: 0.8827\n",
      "Epoch 15/100\n",
      " - 4s - loss: 0.2592 - acc: 0.9099 - val_loss: 0.3277 - val_acc: 0.8845\n",
      "Epoch 16/100\n",
      " - 4s - loss: 0.2590 - acc: 0.9098 - val_loss: 0.3321 - val_acc: 0.8797\n",
      "Epoch 17/100\n",
      " - 4s - loss: 0.2572 - acc: 0.9096 - val_loss: 0.3282 - val_acc: 0.8827\n",
      "Epoch 18/100\n",
      " - 4s - loss: 0.2564 - acc: 0.9099 - val_loss: 0.3238 - val_acc: 0.8833\n",
      "Epoch 19/100\n",
      " - 4s - loss: 0.2565 - acc: 0.9108 - val_loss: 0.3391 - val_acc: 0.8813\n",
      "Epoch 20/100\n",
      " - 4s - loss: 0.2555 - acc: 0.9106 - val_loss: 0.3280 - val_acc: 0.8838\n",
      "Epoch 21/100\n",
      " - 4s - loss: 0.2542 - acc: 0.9105 - val_loss: 0.3281 - val_acc: 0.8825\n",
      "Epoch 22/100\n",
      " - 3s - loss: 0.2522 - acc: 0.9119 - val_loss: 0.3278 - val_acc: 0.8835\n",
      "Epoch 23/100\n",
      " - 4s - loss: 0.2517 - acc: 0.9112 - val_loss: 0.3225 - val_acc: 0.8860\n",
      "Epoch 24/100\n",
      " - 3s - loss: 0.2507 - acc: 0.9122 - val_loss: 0.3229 - val_acc: 0.8855\n",
      "Epoch 25/100\n",
      " - 3s - loss: 0.2491 - acc: 0.9125 - val_loss: 0.3273 - val_acc: 0.8808\n",
      "Epoch 26/100\n",
      " - 3s - loss: 0.2475 - acc: 0.9136 - val_loss: 0.3393 - val_acc: 0.8785\n",
      "Epoch 27/100\n",
      " - 4s - loss: 0.2498 - acc: 0.9121 - val_loss: 0.3301 - val_acc: 0.8795\n",
      "Epoch 28/100\n",
      " - 4s - loss: 0.2482 - acc: 0.9130 - val_loss: 0.3264 - val_acc: 0.8827\n",
      "Epoch 29/100\n",
      " - 4s - loss: 0.2467 - acc: 0.9141 - val_loss: 0.3187 - val_acc: 0.8872\n",
      "Epoch 30/100\n",
      " - 3s - loss: 0.2455 - acc: 0.9138 - val_loss: 0.3224 - val_acc: 0.8877\n",
      "Epoch 31/100\n",
      " - 3s - loss: 0.2439 - acc: 0.9149 - val_loss: 0.3235 - val_acc: 0.8865\n",
      "Epoch 32/100\n",
      " - 4s - loss: 0.2440 - acc: 0.9148 - val_loss: 0.3249 - val_acc: 0.8823\n",
      "Epoch 33/100\n",
      " - 4s - loss: 0.2414 - acc: 0.9158 - val_loss: 0.3196 - val_acc: 0.8863\n",
      "Epoch 34/100\n",
      " - 4s - loss: 0.2407 - acc: 0.9155 - val_loss: 0.3195 - val_acc: 0.8835\n",
      "Epoch 35/100\n",
      " - 3s - loss: 0.2408 - acc: 0.9158 - val_loss: 0.3248 - val_acc: 0.8857\n",
      "Epoch 36/100\n",
      " - 3s - loss: 0.2393 - acc: 0.9163 - val_loss: 0.3184 - val_acc: 0.8852\n",
      "Epoch 37/100\n",
      " - 4s - loss: 0.2396 - acc: 0.9154 - val_loss: 0.3224 - val_acc: 0.8855\n",
      "Epoch 38/100\n",
      " - 4s - loss: 0.2383 - acc: 0.9165 - val_loss: 0.3239 - val_acc: 0.8855\n",
      "Epoch 39/100\n",
      " - 4s - loss: 0.2379 - acc: 0.9164 - val_loss: 0.3253 - val_acc: 0.8863\n",
      "Epoch 40/100\n",
      " - 4s - loss: 0.2355 - acc: 0.9173 - val_loss: 0.3226 - val_acc: 0.8845\n",
      "Epoch 41/100\n",
      " - 4s - loss: 0.2349 - acc: 0.9184 - val_loss: 0.3233 - val_acc: 0.8877\n",
      "Epoch 42/100\n",
      " - 4s - loss: 0.2343 - acc: 0.9176 - val_loss: 0.3436 - val_acc: 0.8775\n",
      "Epoch 43/100\n",
      " - 4s - loss: 0.2334 - acc: 0.9189 - val_loss: 0.3356 - val_acc: 0.8805\n",
      "Epoch 44/100\n",
      " - 3s - loss: 0.2333 - acc: 0.9185 - val_loss: 0.3181 - val_acc: 0.8878\n",
      "Epoch 45/100\n",
      " - 3s - loss: 0.2321 - acc: 0.9190 - val_loss: 0.3326 - val_acc: 0.8813\n",
      "Epoch 46/100\n",
      " - 4s - loss: 0.2324 - acc: 0.9188 - val_loss: 0.3164 - val_acc: 0.8892\n",
      "Epoch 47/100\n",
      " - 4s - loss: 0.2303 - acc: 0.9199 - val_loss: 0.3201 - val_acc: 0.8875\n",
      "Epoch 48/100\n",
      " - 4s - loss: 0.2291 - acc: 0.9209 - val_loss: 0.3166 - val_acc: 0.8873\n",
      "Epoch 49/100\n",
      " - 4s - loss: 0.2287 - acc: 0.9208 - val_loss: 0.3138 - val_acc: 0.8875\n",
      "Epoch 50/100\n",
      " - 4s - loss: 0.2287 - acc: 0.9213 - val_loss: 0.3162 - val_acc: 0.8882\n",
      "Epoch 51/100\n",
      " - 3s - loss: 0.2271 - acc: 0.9217 - val_loss: 0.3139 - val_acc: 0.8893\n",
      "Epoch 52/100\n",
      " - 4s - loss: 0.2258 - acc: 0.9223 - val_loss: 0.3213 - val_acc: 0.8852\n",
      "Epoch 53/100\n",
      " - 4s - loss: 0.2260 - acc: 0.9212 - val_loss: 0.3197 - val_acc: 0.8888\n",
      "Epoch 54/100\n",
      " - 4s - loss: 0.2254 - acc: 0.9218 - val_loss: 0.3257 - val_acc: 0.8840\n",
      "Epoch 55/100\n",
      " - 4s - loss: 0.2236 - acc: 0.9224 - val_loss: 0.3170 - val_acc: 0.8885\n",
      "Epoch 56/100\n",
      " - 4s - loss: 0.2222 - acc: 0.9229 - val_loss: 0.3144 - val_acc: 0.8888\n",
      "Epoch 57/100\n",
      " - 4s - loss: 0.2231 - acc: 0.9219 - val_loss: 0.3135 - val_acc: 0.8887\n",
      "Epoch 58/100\n",
      " - 4s - loss: 0.2220 - acc: 0.9234 - val_loss: 0.3118 - val_acc: 0.8898\n",
      "Epoch 59/100\n",
      " - 4s - loss: 0.2199 - acc: 0.9236 - val_loss: 0.3130 - val_acc: 0.8893\n",
      "Epoch 60/100\n",
      " - 3s - loss: 0.2206 - acc: 0.9234 - val_loss: 0.3128 - val_acc: 0.8890\n",
      "Epoch 61/100\n",
      " - 4s - loss: 0.2209 - acc: 0.9234 - val_loss: 0.3121 - val_acc: 0.8873\n",
      "Epoch 62/100\n",
      " - 4s - loss: 0.2200 - acc: 0.9240 - val_loss: 0.3224 - val_acc: 0.8852\n",
      "Epoch 63/100\n",
      " - 4s - loss: 0.2188 - acc: 0.9241 - val_loss: 0.3172 - val_acc: 0.8868\n",
      "Epoch 64/100\n",
      " - 4s - loss: 0.2172 - acc: 0.9245 - val_loss: 0.3152 - val_acc: 0.8868\n",
      "Epoch 65/100\n",
      " - 4s - loss: 0.2149 - acc: 0.9255 - val_loss: 0.3109 - val_acc: 0.8908\n",
      "Epoch 66/100\n",
      " - 4s - loss: 0.2149 - acc: 0.9255 - val_loss: 0.3254 - val_acc: 0.8840\n",
      "Epoch 67/100\n",
      " - 4s - loss: 0.2135 - acc: 0.9267 - val_loss: 0.3222 - val_acc: 0.8842\n",
      "Epoch 68/100\n",
      " - 4s - loss: 0.2129 - acc: 0.9271 - val_loss: 0.3131 - val_acc: 0.8903\n",
      "Epoch 69/100\n",
      " - 4s - loss: 0.2134 - acc: 0.9263 - val_loss: 0.3206 - val_acc: 0.8878\n",
      "Epoch 70/100\n",
      " - 4s - loss: 0.2127 - acc: 0.9259 - val_loss: 0.3262 - val_acc: 0.8870\n",
      "Epoch 71/100\n",
      " - 4s - loss: 0.2117 - acc: 0.9273 - val_loss: 0.3164 - val_acc: 0.8887\n",
      "Epoch 72/100\n",
      " - 4s - loss: 0.2111 - acc: 0.9275 - val_loss: 0.3124 - val_acc: 0.8923\n",
      "Epoch 73/100\n",
      " - 4s - loss: 0.2101 - acc: 0.9269 - val_loss: 0.3225 - val_acc: 0.8872\n",
      "Epoch 74/100\n",
      " - 4s - loss: 0.2084 - acc: 0.9279 - val_loss: 0.3236 - val_acc: 0.8862\n",
      "Epoch 75/100\n",
      " - 4s - loss: 0.2075 - acc: 0.9284 - val_loss: 0.3111 - val_acc: 0.8893\n",
      "Epoch 76/100\n",
      " - 4s - loss: 0.2082 - acc: 0.9289 - val_loss: 0.3107 - val_acc: 0.8905\n",
      "Epoch 77/100\n",
      " - 4s - loss: 0.2059 - acc: 0.9291 - val_loss: 0.3119 - val_acc: 0.8912\n",
      "Epoch 78/100\n",
      " - 4s - loss: 0.2070 - acc: 0.9283 - val_loss: 0.3207 - val_acc: 0.8885\n",
      "Epoch 79/100\n",
      " - 4s - loss: 0.2054 - acc: 0.9284 - val_loss: 0.3171 - val_acc: 0.8863\n",
      "Epoch 80/100\n",
      " - 4s - loss: 0.2037 - acc: 0.9301 - val_loss: 0.3241 - val_acc: 0.8855\n",
      "Epoch 81/100\n",
      " - 4s - loss: 0.2013 - acc: 0.9319 - val_loss: 0.3186 - val_acc: 0.8880\n",
      "Epoch 82/100\n",
      " - 4s - loss: 0.2015 - acc: 0.9308 - val_loss: 0.3079 - val_acc: 0.8918\n",
      "Epoch 83/100\n",
      " - 4s - loss: 0.2035 - acc: 0.9297 - val_loss: 0.3247 - val_acc: 0.8872\n",
      "Epoch 84/100\n",
      " - 4s - loss: 0.2030 - acc: 0.9293 - val_loss: 0.3111 - val_acc: 0.8928\n",
      "Epoch 85/100\n",
      " - 4s - loss: 0.2050 - acc: 0.9297 - val_loss: 0.3148 - val_acc: 0.8902\n",
      "Epoch 86/100\n",
      " - 3s - loss: 0.2008 - acc: 0.9310 - val_loss: 0.3150 - val_acc: 0.8897\n",
      "Epoch 87/100\n",
      " - 3s - loss: 0.1993 - acc: 0.9313 - val_loss: 0.3119 - val_acc: 0.8907\n",
      "Epoch 88/100\n",
      " - 4s - loss: 0.1964 - acc: 0.9328 - val_loss: 0.3219 - val_acc: 0.8898\n",
      "Epoch 89/100\n",
      " - 4s - loss: 0.1991 - acc: 0.9318 - val_loss: 0.3320 - val_acc: 0.8857\n",
      "Epoch 90/100\n",
      " - 3s - loss: 0.1972 - acc: 0.9321 - val_loss: 0.3279 - val_acc: 0.8845\n",
      "Epoch 91/100\n",
      " - 3s - loss: 0.1956 - acc: 0.9331 - val_loss: 0.3239 - val_acc: 0.8853\n",
      "Epoch 92/100\n",
      " - 4s - loss: 0.1955 - acc: 0.9327 - val_loss: 0.3145 - val_acc: 0.8907\n",
      "Epoch 93/100\n",
      " - 3s - loss: 0.1952 - acc: 0.9334 - val_loss: 0.3216 - val_acc: 0.8868\n",
      "Epoch 94/100\n",
      " - 4s - loss: 0.1936 - acc: 0.9332 - val_loss: 0.3138 - val_acc: 0.8913\n",
      "Epoch 95/100\n",
      " - 4s - loss: 0.1932 - acc: 0.9340 - val_loss: 0.3097 - val_acc: 0.8907\n",
      "Epoch 96/100\n",
      " - 4s - loss: 0.1944 - acc: 0.9334 - val_loss: 0.3235 - val_acc: 0.8870\n",
      "Epoch 97/100\n",
      " - 4s - loss: 0.1910 - acc: 0.9351 - val_loss: 0.3191 - val_acc: 0.8875\n",
      "Epoch 98/100\n",
      " - 4s - loss: 0.1918 - acc: 0.9348 - val_loss: 0.3200 - val_acc: 0.8907\n",
      "Epoch 99/100\n",
      " - 4s - loss: 0.1895 - acc: 0.9352 - val_loss: 0.3082 - val_acc: 0.8920\n",
      "Epoch 100/100\n",
      " - 4s - loss: 0.1888 - acc: 0.9356 - val_loss: 0.3094 - val_acc: 0.8922\n"
     ]
    },
    {
     "data": {
      "text/plain": [
       "<keras.callbacks.History at 0x23606f3e1d0>"
      ]
     },
     "execution_count": 49,
     "metadata": {},
     "output_type": "execute_result"
    }
   ],
   "source": [
    "model.fit(trainX.reshape(-1,784), trainY, batch_size=256, epochs=100, validation_split=.1, verbose=2)"
   ]
  },
  {
   "cell_type": "code",
   "execution_count": 50,
   "metadata": {},
   "outputs": [],
   "source": [
    "model.save('fashion_mnist.hdf5')"
   ]
  },
  {
   "cell_type": "code",
   "execution_count": 59,
   "metadata": {},
   "outputs": [],
   "source": [
    "pred = model.predict_classes(testX.reshape(-1,784))"
   ]
  },
  {
   "cell_type": "code",
   "execution_count": 67,
   "metadata": {},
   "outputs": [
    {
     "data": {
      "text/plain": [
       "(array([   0,    1,    2, ..., 9997, 9998, 9999], dtype=int64),\n",
       " array([9, 2, 1, ..., 8, 1, 5], dtype=int64))"
      ]
     },
     "execution_count": 67,
     "metadata": {},
     "output_type": "execute_result"
    }
   ],
   "source": [
    "y_true"
   ]
  },
  {
   "cell_type": "code",
   "execution_count": 58,
   "metadata": {},
   "outputs": [],
   "source": [
    "import numpy as np\n",
    "y_true = np.where(testY)"
   ]
  },
  {
   "cell_type": "code",
   "execution_count": 60,
   "metadata": {},
   "outputs": [],
   "source": [
    "from sklearn.metrics import accuracy_score"
   ]
  },
  {
   "cell_type": "code",
   "execution_count": 66,
   "metadata": {},
   "outputs": [
    {
     "data": {
      "text/plain": [
       "0.8865"
      ]
     },
     "execution_count": 66,
     "metadata": {},
     "output_type": "execute_result"
    }
   ],
   "source": [
    "accuracy_score(y_pred=pred, y_true=y_true[1])"
   ]
  },
  {
   "cell_type": "code",
   "execution_count": 69,
   "metadata": {},
   "outputs": [],
   "source": [
    "from skimage.io import imread,imshow\n",
    "from skimage.transform import resize\n",
    "from skimage.color import rgb2gray"
   ]
  },
  {
   "cell_type": "code",
   "execution_count": 70,
   "metadata": {},
   "outputs": [
    {
     "name": "stderr",
     "output_type": "stream",
     "text": [
      "C:\\Workspace\\lib\\site-packages\\skimage\\io\\_plugins\\matplotlib_plugin.py:51: FutureWarning: Conversion of the second argument of issubdtype from `float` to `np.floating` is deprecated. In future, it will be treated as `np.float64 == np.dtype(float).type`.\n",
      "  out_of_range_float = (np.issubdtype(image.dtype, np.float) and\n",
      "C:\\Workspace\\lib\\site-packages\\matplotlib\\axes\\_base.py:1400: MatplotlibDeprecationWarning: The 'box-forced' keyword argument is deprecated since 2.2.\n",
      "  \" since 2.2.\", cbook.mplDeprecation)\n"
     ]
    },
    {
     "data": {
      "text/plain": [
       "<matplotlib.image.AxesImage at 0x23608f38ef0>"
      ]
     },
     "execution_count": 70,
     "metadata": {},
     "output_type": "execute_result"
    },
    {
     "data": {
      "image/png": "[encoded data removed]",
      "text/plain": [
       "<Figure size 432x288 with 1 Axes>"
      ]
     },
     "metadata": {},
     "output_type": "display_data"
    }
   ],
   "source": [
    "imshow('img.jpg')"
   ]
  },
  {
   "cell_type": "code",
   "execution_count": 71,
   "metadata": {},
   "outputs": [],
   "source": [
    "img = imread('img.jpg')"
   ]
  },
  {
   "cell_type": "code",
   "execution_count": 74,
   "metadata": {},
   "outputs": [
    {
     "name": "stderr",
     "output_type": "stream",
     "text": [
      "C:\\Workspace\\lib\\site-packages\\skimage\\transform\\_warps.py:84: UserWarning: The default mode, 'constant', will be changed to 'reflect' in skimage 0.15.\n",
      "  warn(\"The default mode, 'constant', will be changed to 'reflect' in \"\n"
     ]
    }
   ],
   "source": [
    "img = resize(rgb2gray(img),(28,28))"
   ]
  },
  {
   "cell_type": "code",
   "execution_count": 75,
   "metadata": {},
   "outputs": [
    {
     "data": {
      "text/plain": [
       "(28, 28)"
      ]
     },
     "execution_count": 75,
     "metadata": {},
     "output_type": "execute_result"
    }
   ],
   "source": [
    "img.shape"
   ]
  },
  {
   "cell_type": "code",
   "execution_count": 76,
   "metadata": {},
   "outputs": [],
   "source": [
    "#!wget https://s7d2.scene7.com/is/image/dkscdn/17NIKMKYR4BLKBL12PRF_Black_White_Blue_is"
   ]
  },
  {
   "cell_type": "markdown",
   "metadata": {},
   "source": [
    "imshow(img)"
   ]
  },
  {
   "cell_type": "code",
   "execution_count": 83,
   "metadata": {},
   "outputs": [
    {
     "data": {
      "text/plain": [
       "array([[4, 2, 3, 7, 1, 6, 9, 5, 0, 8]], dtype=int64)"
      ]
     },
     "execution_count": 83,
     "metadata": {},
     "output_type": "execute_result"
    }
   ],
   "source": [
    "np.argsort(model.predict(img.reshape(1,784)))"
   ]
  },
  {
   "cell_type": "code",
   "execution_count": 84,
   "metadata": {},
   "outputs": [],
   "source": [
    "from tensorflow import keras"
   ]
  },
  {
   "cell_type": "code",
   "execution_count": null,
   "metadata": {},
   "outputs": [],
   "source": []
  }
 ],
 "metadata": {
  "kernelspec": {
   "display_name": "Python 3",
   "language": "python",
   "name": "python3"
  },
  "language_info": {
   "codemirror_mode": {
    "name": "ipython",
    "version": 3
   },
   "file_extension": ".py",
   "mimetype": "text/x-python",
   "name": "python",
   "nbconvert_exporter": "python",
   "pygments_lexer": "ipython3",
   "version": "3.6.5"
  }
 },
 "nbformat": 4,
 "nbformat_minor": 2
}
