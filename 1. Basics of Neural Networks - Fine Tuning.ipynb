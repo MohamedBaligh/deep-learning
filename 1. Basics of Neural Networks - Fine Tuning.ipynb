{
 "cells": [
  {
   "cell_type": "code",
   "execution_count": 1,
   "metadata": {},
   "outputs": [
    {
     "name": "stderr",
     "output_type": "stream",
     "text": [
      "C:\\Workspace\\lib\\site-packages\\h5py\\__init__.py:36: FutureWarning: Conversion of the second argument of issubdtype from `float` to `np.floating` is deprecated. In future, it will be treated as `np.float64 == np.dtype(float).type`.\n",
      "  from ._conv import register_converters as _register_converters\n",
      "Using TensorFlow backend.\n"
     ]
    }
   ],
   "source": [
    "from keras.datasets import fashion_mnist"
   ]
  },
  {
   "cell_type": "code",
   "execution_count": 34,
   "metadata": {},
   "outputs": [],
   "source": [
    "(trainX, trainY), (testX,testY) = fashion_mnist.load_data()"
   ]
  },
  {
   "cell_type": "code",
   "execution_count": 13,
   "metadata": {},
   "outputs": [
    {
     "data": {
      "text/plain": [
       "(28, 28)"
      ]
     },
     "execution_count": 13,
     "metadata": {},
     "output_type": "execute_result"
    }
   ],
   "source": [
    "trainX[0].shape"
   ]
  },
  {
   "cell_type": "code",
   "execution_count": 4,
   "metadata": {},
   "outputs": [],
   "source": [
    "import matplotlib.pyplot as plt\n",
    "%matplotlib inline"
   ]
  },
  {
   "cell_type": "code",
   "execution_count": 29,
   "metadata": {},
   "outputs": [
    {
     "data": {
      "text/plain": [
       "<matplotlib.image.AxesImage at 0x2625d2d6320>"
      ]
     },
     "execution_count": 29,
     "metadata": {},
     "output_type": "execute_result"
    },
    {
     "data": {
      "image/png": "[encoded data removed]",
      "text/plain": [
       "<Figure size 432x288 with 1 Axes>"
      ]
     },
     "metadata": {},
     "output_type": "display_data"
    }
   ],
   "source": [
    "plt.imshow(trainX[0], cmap='gray')"
   ]
  },
  {
   "cell_type": "markdown",
   "metadata": {},
   "source": [
    "### Noramlizing data"
   ]
  },
  {
   "cell_type": "code",
   "execution_count": 20,
   "metadata": {},
   "outputs": [],
   "source": [
    "trainX = trainX/255.0"
   ]
  },
  {
   "cell_type": "code",
   "execution_count": 21,
   "metadata": {},
   "outputs": [],
   "source": [
    "from keras.utils import to_categorical"
   ]
  },
  {
   "cell_type": "code",
   "execution_count": 35,
   "metadata": {},
   "outputs": [],
   "source": [
    "trainY = to_categorical(trainY)\n",
    "testY = to_categorical(testY)"
   ]
  },
  {
   "cell_type": "code",
   "execution_count": 59,
   "metadata": {},
   "outputs": [],
   "source": [
    "from keras.layers import Dense, Dropout, BatchNormalization\n",
    "from keras.models import Sequential"
   ]
  },
  {
   "cell_type": "code",
   "execution_count": 70,
   "metadata": {},
   "outputs": [],
   "source": [
    "def create_model(model_config):\n",
    "    models = []\n",
    "    for name,config in model_config.items():\n",
    "        model = Sequential()\n",
    "        model.add(Dense(config[0][1], input_dim=784, activation='relu'))\n",
    "        for num,nodes in config[1:]:\n",
    "            model.add(Dense(nodes, activation='relu'))\n",
    "            #model.add(Dropout(.25))\n",
    "            model.add(BatchNormalization())\n",
    "        model.add(Dense(10, activation='softmax'))\n",
    "        models.append(model)\n",
    "    return models\n",
    "    "
   ]
  },
  {
   "cell_type": "code",
   "execution_count": 71,
   "metadata": {},
   "outputs": [],
   "source": [
    "model_config = {\n",
    "    'A':[(1,700),(2,128)],\n",
    "    'B':[(1,256),(2,128),(3,64),(4,32)]\n",
    "}"
   ]
  },
  {
   "cell_type": "code",
   "execution_count": 72,
   "metadata": {},
   "outputs": [],
   "source": [
    "models = create_model(model_config)"
   ]
  },
  {
   "cell_type": "code",
   "execution_count": 73,
   "metadata": {},
   "outputs": [
    {
     "name": "stdout",
     "output_type": "stream",
     "text": [
      "_________________________________________________________________\n",
      "Layer (type)                 Output Shape              Param #   \n",
      "=================================================================\n",
      "dense_17 (Dense)             (None, 700)               549500    \n",
      "_________________________________________________________________\n",
      "dense_18 (Dense)             (None, 128)               89728     \n",
      "_________________________________________________________________\n",
      "batch_normalization_1 (Batch (None, 128)               512       \n",
      "_________________________________________________________________\n",
      "dense_19 (Dense)             (None, 10)                1290      \n",
      "=================================================================\n",
      "Total params: 641,030\n",
      "Trainable params: 640,774\n",
      "Non-trainable params: 256\n",
      "_________________________________________________________________\n"
     ]
    }
   ],
   "source": [
    "models[0].summary()"
   ]
  },
  {
   "cell_type": "code",
   "execution_count": 74,
   "metadata": {},
   "outputs": [
    {
     "name": "stdout",
     "output_type": "stream",
     "text": [
      "_________________________________________________________________\n",
      "Layer (type)                 Output Shape              Param #   \n",
      "=================================================================\n",
      "dense_20 (Dense)             (None, 256)               200960    \n",
      "_________________________________________________________________\n",
      "dense_21 (Dense)             (None, 128)               32896     \n",
      "_________________________________________________________________\n",
      "batch_normalization_2 (Batch (None, 128)               512       \n",
      "_________________________________________________________________\n",
      "dense_22 (Dense)             (None, 64)                8256      \n",
      "_________________________________________________________________\n",
      "batch_normalization_3 (Batch (None, 64)                256       \n",
      "_________________________________________________________________\n",
      "dense_23 (Dense)             (None, 32)                2080      \n",
      "_________________________________________________________________\n",
      "batch_normalization_4 (Batch (None, 32)                128       \n",
      "_________________________________________________________________\n",
      "dense_24 (Dense)             (None, 10)                330       \n",
      "=================================================================\n",
      "Total params: 245,418\n",
      "Trainable params: 244,970\n",
      "Non-trainable params: 448\n",
      "_________________________________________________________________\n"
     ]
    }
   ],
   "source": [
    "models[1].summary()"
   ]
  },
  {
   "cell_type": "code",
   "execution_count": null,
   "metadata": {},
   "outputs": [],
   "source": []
  },
  {
   "cell_type": "code",
   "execution_count": 75,
   "metadata": {},
   "outputs": [],
   "source": [
    "trainX = trainX.reshape(60000,784)"
   ]
  },
  {
   "cell_type": "code",
   "execution_count": 76,
   "metadata": {},
   "outputs": [],
   "source": [
    "testX = testX.reshape(10000,784)"
   ]
  },
  {
   "cell_type": "code",
   "execution_count": null,
   "metadata": {},
   "outputs": [],
   "source": []
  },
  {
   "cell_type": "code",
   "execution_count": null,
   "metadata": {},
   "outputs": [],
   "source": []
  },
  {
   "cell_type": "code",
   "execution_count": 77,
   "metadata": {},
   "outputs": [
    {
     "name": "stdout",
     "output_type": "stream",
     "text": [
      "Train on 48000 samples, validate on 12000 samples\n",
      "Epoch 1/10\n",
      " - 5s - loss: 0.4969 - acc: 0.8289 - val_loss: 0.5917 - val_acc: 0.7954\n",
      "Epoch 2/10\n",
      " - 4s - loss: 0.3792 - acc: 0.8669 - val_loss: 0.4488 - val_acc: 0.8470\n",
      "Epoch 3/10\n",
      " - 4s - loss: 0.3396 - acc: 0.8770 - val_loss: 0.4691 - val_acc: 0.8393\n",
      "Epoch 4/10\n",
      " - 4s - loss: 0.3507 - acc: 0.8776 - val_loss: 0.4760 - val_acc: 0.8445\n",
      "Epoch 5/10\n",
      " - 4s - loss: 0.3143 - acc: 0.8860 - val_loss: 0.3863 - val_acc: 0.8657\n",
      "Epoch 6/10\n",
      " - 5s - loss: 0.3000 - acc: 0.8914 - val_loss: 0.3928 - val_acc: 0.8619\n",
      "Epoch 7/10\n",
      " - 4s - loss: 0.2809 - acc: 0.8975 - val_loss: 0.3419 - val_acc: 0.8813\n",
      "Epoch 8/10\n",
      " - 4s - loss: 0.2695 - acc: 0.9012 - val_loss: 0.3489 - val_acc: 0.8803\n",
      "Epoch 9/10\n",
      " - 4s - loss: 0.2651 - acc: 0.9037 - val_loss: 0.3684 - val_acc: 0.8673\n",
      "Epoch 10/10\n",
      " - 4s - loss: 0.2634 - acc: 0.9044 - val_loss: 0.3424 - val_acc: 0.8790\n",
      "Train on 48000 samples, validate on 12000 samples\n",
      "Epoch 1/10\n",
      " - 3s - loss: 0.5741 - acc: 0.8094 - val_loss: 0.5005 - val_acc: 0.8226\n",
      "Epoch 2/10\n",
      " - 2s - loss: 0.3814 - acc: 0.8634 - val_loss: 0.5373 - val_acc: 0.8010\n",
      "Epoch 3/10\n",
      " - 2s - loss: 0.3349 - acc: 0.8785 - val_loss: 0.5216 - val_acc: 0.8248\n",
      "Epoch 4/10\n",
      " - 2s - loss: 0.3133 - acc: 0.8854 - val_loss: 0.3837 - val_acc: 0.8575\n",
      "Epoch 5/10\n",
      " - 2s - loss: 0.3068 - acc: 0.8873 - val_loss: 0.3990 - val_acc: 0.8552\n",
      "Epoch 6/10\n",
      " - 2s - loss: 0.2914 - acc: 0.8938 - val_loss: 0.3774 - val_acc: 0.8609\n",
      "Epoch 7/10\n",
      " - 2s - loss: 0.2735 - acc: 0.8987 - val_loss: 0.3651 - val_acc: 0.8663\n",
      "Epoch 8/10\n",
      " - 2s - loss: 0.2594 - acc: 0.9045 - val_loss: 0.3358 - val_acc: 0.8792\n",
      "Epoch 9/10\n",
      " - 2s - loss: 0.2480 - acc: 0.9087 - val_loss: 0.3375 - val_acc: 0.8794\n",
      "Epoch 10/10\n",
      " - 2s - loss: 0.2418 - acc: 0.9094 - val_loss: 0.3590 - val_acc: 0.8694\n"
     ]
    }
   ],
   "source": [
    "all_history = []\n",
    "for model in models:\n",
    "    model.compile(loss='categorical_crossentropy', optimizer='adam', metrics=['accuracy'])\n",
    "    history = model.fit(trainX,trainY,validation_split=.2, epochs=10, batch_size=256, verbose=2)\n",
    "    all_history.append(history)"
   ]
  },
  {
   "cell_type": "code",
   "execution_count": 108,
   "metadata": {},
   "outputs": [
    {
     "data": {
      "text/plain": [
       "array([9, 2, 1, ..., 8, 1, 5], dtype=int64)"
      ]
     },
     "execution_count": 108,
     "metadata": {},
     "output_type": "execute_result"
    }
   ],
   "source": [
    "import numpy as np\n",
    "np.argmax(models[1].predict(testX.reshape(10000,784)),axis=1)"
   ]
  },
  {
   "cell_type": "code",
   "execution_count": 41,
   "metadata": {},
   "outputs": [
    {
     "name": "stdout",
     "output_type": "stream",
     "text": [
      "10000/10000 [==============================] - 0s 25us/step\n"
     ]
    },
    {
     "data": {
      "text/plain": [
       "[0.4089719118833542, 0.8659]"
      ]
     },
     "execution_count": 41,
     "metadata": {},
     "output_type": "execute_result"
    }
   ],
   "source": [
    "model.evaluate(testX.reshape(-1,784),testY)"
   ]
  },
  {
   "cell_type": "code",
   "execution_count": 78,
   "metadata": {},
   "outputs": [],
   "source": [
    "val_acc = all_history[1].history['val_acc']"
   ]
  },
  {
   "cell_type": "code",
   "execution_count": 79,
   "metadata": {},
   "outputs": [],
   "source": [
    "train_acc = all_history[1].history['acc']"
   ]
  },
  {
   "cell_type": "code",
   "execution_count": 48,
   "metadata": {},
   "outputs": [],
   "source": [
    "h = all_history[1]"
   ]
  },
  {
   "cell_type": "code",
   "execution_count": 52,
   "metadata": {},
   "outputs": [
    {
     "data": {
      "text/plain": [
       "dict_keys(['val_loss', 'val_acc', 'loss', 'acc'])"
      ]
     },
     "execution_count": 52,
     "metadata": {},
     "output_type": "execute_result"
    }
   ],
   "source": [
    "h.history.keys()"
   ]
  },
  {
   "cell_type": "code",
   "execution_count": 80,
   "metadata": {},
   "outputs": [
    {
     "data": {
      "text/plain": [
       "<matplotlib.legend.Legend at 0x262050ace48>"
      ]
     },
     "execution_count": 80,
     "metadata": {},
     "output_type": "execute_result"
    },
    {
     "data": {
      "image/png": "[encoded data removed]",
      "text/plain": [
       "<Figure size 432x288 with 1 Axes>"
      ]
     },
     "metadata": {},
     "output_type": "display_data"
    }
   ],
   "source": [
    "plt.plot(val_acc, label='val')\n",
    "plt.plot(train_acc, label='train')\n",
    "plt.legend()"
   ]
  },
  {
   "cell_type": "code",
   "execution_count": null,
   "metadata": {},
   "outputs": [],
   "source": []
  }
 ],
 "metadata": {
  "kernelspec": {
   "display_name": "Python 3",
   "language": "python",
   "name": "python3"
  },
  "language_info": {
   "codemirror_mode": {
    "name": "ipython",
    "version": 3
   },
   "file_extension": ".py",
   "mimetype": "text/x-python",
   "name": "python",
   "nbconvert_exporter": "python",
   "pygments_lexer": "ipython3",
   "version": "3.6.5"
  }
 },
 "nbformat": 4,
 "nbformat_minor": 2
}
