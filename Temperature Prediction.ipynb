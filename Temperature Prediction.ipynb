{
 "cells": [
  {
   "cell_type": "code",
   "execution_count": 1,
   "metadata": {},
   "outputs": [],
   "source": [
    "import pandas as pd"
   ]
  },
  {
   "cell_type": "code",
   "execution_count": 2,
   "metadata": {},
   "outputs": [],
   "source": [
    "temp_data = pd.read_csv(r'jena_climate_2009_2016.csv')"
   ]
  },
  {
   "cell_type": "code",
   "execution_count": 3,
   "metadata": {},
   "outputs": [
    {
     "data": {
      "text/html": [
       "<div>\n",
       "<style scoped>\n",
       "    .dataframe tbody tr th:only-of-type {\n",
       "        vertical-align: middle;\n",
       "    }\n",
       "\n",
       "    .dataframe tbody tr th {\n",
       "        vertical-align: top;\n",
       "    }\n",
       "\n",
       "    .dataframe thead th {\n",
       "        text-align: right;\n",
       "    }\n",
       "</style>\n",
       "<table border=\"1\" class=\"dataframe\">\n",
       "  <thead>\n",
       "    <tr style=\"text-align: right;\">\n",
       "      <th></th>\n",
       "      <th>Date Time</th>\n",
       "      <th>p (mbar)</th>\n",
       "      <th>T (degC)</th>\n",
       "      <th>Tpot (K)</th>\n",
       "      <th>Tdew (degC)</th>\n",
       "      <th>rh (%)</th>\n",
       "      <th>VPmax (mbar)</th>\n",
       "      <th>VPact (mbar)</th>\n",
       "      <th>VPdef (mbar)</th>\n",
       "      <th>sh (g/kg)</th>\n",
       "      <th>H2OC (mmol/mol)</th>\n",
       "      <th>rho (g/m**3)</th>\n",
       "      <th>wv (m/s)</th>\n",
       "      <th>max. wv (m/s)</th>\n",
       "      <th>wd (deg)</th>\n",
       "    </tr>\n",
       "  </thead>\n",
       "  <tbody>\n",
       "    <tr>\n",
       "      <th>0</th>\n",
       "      <td>01.01.2009 00:10:00</td>\n",
       "      <td>996.52</td>\n",
       "      <td>-8.02</td>\n",
       "      <td>265.40</td>\n",
       "      <td>-8.90</td>\n",
       "      <td>93.3</td>\n",
       "      <td>3.33</td>\n",
       "      <td>3.11</td>\n",
       "      <td>0.22</td>\n",
       "      <td>1.94</td>\n",
       "      <td>3.12</td>\n",
       "      <td>1307.75</td>\n",
       "      <td>1.03</td>\n",
       "      <td>1.75</td>\n",
       "      <td>152.3</td>\n",
       "    </tr>\n",
       "    <tr>\n",
       "      <th>1</th>\n",
       "      <td>01.01.2009 00:20:00</td>\n",
       "      <td>996.57</td>\n",
       "      <td>-8.41</td>\n",
       "      <td>265.01</td>\n",
       "      <td>-9.28</td>\n",
       "      <td>93.4</td>\n",
       "      <td>3.23</td>\n",
       "      <td>3.02</td>\n",
       "      <td>0.21</td>\n",
       "      <td>1.89</td>\n",
       "      <td>3.03</td>\n",
       "      <td>1309.80</td>\n",
       "      <td>0.72</td>\n",
       "      <td>1.50</td>\n",
       "      <td>136.1</td>\n",
       "    </tr>\n",
       "    <tr>\n",
       "      <th>2</th>\n",
       "      <td>01.01.2009 00:30:00</td>\n",
       "      <td>996.53</td>\n",
       "      <td>-8.51</td>\n",
       "      <td>264.91</td>\n",
       "      <td>-9.31</td>\n",
       "      <td>93.9</td>\n",
       "      <td>3.21</td>\n",
       "      <td>3.01</td>\n",
       "      <td>0.20</td>\n",
       "      <td>1.88</td>\n",
       "      <td>3.02</td>\n",
       "      <td>1310.24</td>\n",
       "      <td>0.19</td>\n",
       "      <td>0.63</td>\n",
       "      <td>171.6</td>\n",
       "    </tr>\n",
       "    <tr>\n",
       "      <th>3</th>\n",
       "      <td>01.01.2009 00:40:00</td>\n",
       "      <td>996.51</td>\n",
       "      <td>-8.31</td>\n",
       "      <td>265.12</td>\n",
       "      <td>-9.07</td>\n",
       "      <td>94.2</td>\n",
       "      <td>3.26</td>\n",
       "      <td>3.07</td>\n",
       "      <td>0.19</td>\n",
       "      <td>1.92</td>\n",
       "      <td>3.08</td>\n",
       "      <td>1309.19</td>\n",
       "      <td>0.34</td>\n",
       "      <td>0.50</td>\n",
       "      <td>198.0</td>\n",
       "    </tr>\n",
       "    <tr>\n",
       "      <th>4</th>\n",
       "      <td>01.01.2009 00:50:00</td>\n",
       "      <td>996.51</td>\n",
       "      <td>-8.27</td>\n",
       "      <td>265.15</td>\n",
       "      <td>-9.04</td>\n",
       "      <td>94.1</td>\n",
       "      <td>3.27</td>\n",
       "      <td>3.08</td>\n",
       "      <td>0.19</td>\n",
       "      <td>1.92</td>\n",
       "      <td>3.09</td>\n",
       "      <td>1309.00</td>\n",
       "      <td>0.32</td>\n",
       "      <td>0.63</td>\n",
       "      <td>214.3</td>\n",
       "    </tr>\n",
       "  </tbody>\n",
       "</table>\n",
       "</div>"
      ],
      "text/plain": [
       "             Date Time  p (mbar)  T (degC)  Tpot (K)  Tdew (degC)  rh (%)  \\\n",
       "0  01.01.2009 00:10:00    996.52     -8.02    265.40        -8.90    93.3   \n",
       "1  01.01.2009 00:20:00    996.57     -8.41    265.01        -9.28    93.4   \n",
       "2  01.01.2009 00:30:00    996.53     -8.51    264.91        -9.31    93.9   \n",
       "3  01.01.2009 00:40:00    996.51     -8.31    265.12        -9.07    94.2   \n",
       "4  01.01.2009 00:50:00    996.51     -8.27    265.15        -9.04    94.1   \n",
       "\n",
       "   VPmax (mbar)  VPact (mbar)  VPdef (mbar)  sh (g/kg)  H2OC (mmol/mol)  \\\n",
       "0          3.33          3.11          0.22       1.94             3.12   \n",
       "1          3.23          3.02          0.21       1.89             3.03   \n",
       "2          3.21          3.01          0.20       1.88             3.02   \n",
       "3          3.26          3.07          0.19       1.92             3.08   \n",
       "4          3.27          3.08          0.19       1.92             3.09   \n",
       "\n",
       "   rho (g/m**3)  wv (m/s)  max. wv (m/s)  wd (deg)  \n",
       "0       1307.75      1.03           1.75     152.3  \n",
       "1       1309.80      0.72           1.50     136.1  \n",
       "2       1310.24      0.19           0.63     171.6  \n",
       "3       1309.19      0.34           0.50     198.0  \n",
       "4       1309.00      0.32           0.63     214.3  "
      ]
     },
     "execution_count": 3,
     "metadata": {},
     "output_type": "execute_result"
    }
   ],
   "source": [
    "temp_data.iloc[:5]"
   ]
  },
  {
   "cell_type": "code",
   "execution_count": 6,
   "metadata": {},
   "outputs": [],
   "source": [
    "d = temp_data.sample(n=1000)"
   ]
  },
  {
   "cell_type": "code",
   "execution_count": 7,
   "metadata": {},
   "outputs": [],
   "source": [
    "import matplotlib.pyplot as plt\n",
    "%matplotlib inline"
   ]
  },
  {
   "cell_type": "code",
   "execution_count": 8,
   "metadata": {},
   "outputs": [],
   "source": [
    "s = d['T (degC)']"
   ]
  },
  {
   "cell_type": "markdown",
   "metadata": {},
   "source": [
    "<img src=\"data:image/png;base64,iVBORw0KGgoAAAANSUhEUgAAAXwAAAD8CAYAAAB0IB+mAAAABHNCSVQICAgIfAhkiAAAAAlwSFlz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%0AAABJRU5ErkJggg==%0A\">"
   ]
  },
  {
   "cell_type": "code",
   "execution_count": 9,
   "metadata": {},
   "outputs": [
    {
     "data": {
      "text/plain": [
       "[<matplotlib.lines.Line2D at 0x1f626a5e710>]"
      ]
     },
     "execution_count": 9,
     "metadata": {},
     "output_type": "execute_result"
    },
    {
     "data": {
      "image/png": "[encoded data removed]",
      "text/plain": [
       "<matplotlib.figure.Figure at 0x1f626734c88>"
      ]
     },
     "metadata": {},
     "output_type": "display_data"
    }
   ],
   "source": [
    "plt.plot(s)"
   ]
  },
  {
   "cell_type": "markdown",
   "metadata": {},
   "source": [
    "* lookback - how many days you want to consider\n",
    "* steps = 6\n",
    "* delay = 24 hrs"
   ]
  },
  {
   "cell_type": "code",
   "execution_count": 16,
   "metadata": {},
   "outputs": [],
   "source": [
    "from keras.models import Sequential\n",
    "from keras import layers\n",
    "from keras.optimizers import RMSprop"
   ]
  },
  {
   "cell_type": "code",
   "execution_count": null,
   "metadata": {},
   "outputs": [],
   "source": []
  },
  {
   "cell_type": "code",
   "execution_count": 22,
   "metadata": {},
   "outputs": [],
   "source": [
    "float_data = temp_data.as_matrix()"
   ]
  },
  {
   "cell_type": "code",
   "execution_count": 26,
   "metadata": {},
   "outputs": [],
   "source": [
    "float_data = float_data[:,1:]"
   ]
  },
  {
   "cell_type": "code",
   "execution_count": 29,
   "metadata": {},
   "outputs": [],
   "source": [
    "mean = float_data[:200000].mean(axis=0)"
   ]
  },
  {
   "cell_type": "code",
   "execution_count": 30,
   "metadata": {},
   "outputs": [
    {
     "data": {
      "text/plain": [
       "array([988.8863588499801, 9.077348950000042, 283.14631344999333,\n",
       "       4.448547250000076, 75.3540589499996, 13.382955299999965,\n",
       "       9.296955350000026, 4.085917250000062, 5.875211099999908,\n",
       "       9.405210049999988, 1217.5142965500056, 2.151003699999979,\n",
       "       3.5695091500001372, 176.21703355000022], dtype=object)"
      ]
     },
     "execution_count": 30,
     "metadata": {},
     "output_type": "execute_result"
    }
   ],
   "source": [
    "mean"
   ]
  },
  {
   "cell_type": "code",
   "execution_count": 31,
   "metadata": {},
   "outputs": [],
   "source": [
    "float_data -= mean"
   ]
  },
  {
   "cell_type": "code",
   "execution_count": 42,
   "metadata": {},
   "outputs": [
    {
     "data": {
      "text/plain": [
       "array([ 8.358471 ,  8.423355 ,  8.504461 ,  6.730666 , 16.476154 ,\n",
       "        7.739011 ,  4.1841593,  4.896845 ,  2.6561358,  4.23539  ,\n",
       "       39.975163 , 65.44663  , 69.01684  , 86.681595 ], dtype=float32)"
      ]
     },
     "execution_count": 42,
     "metadata": {},
     "output_type": "execute_result"
    }
   ],
   "source": [
    "float_data.astype('float32').std(axis=0)"
   ]
  },
  {
   "cell_type": "code",
   "execution_count": 37,
   "metadata": {},
   "outputs": [
    {
     "data": {
      "text/plain": [
       "7.633641150019912"
      ]
     },
     "execution_count": 37,
     "metadata": {},
     "output_type": "execute_result"
    }
   ],
   "source": [
    "float_data[0][0]"
   ]
  },
  {
   "cell_type": "code",
   "execution_count": null,
   "metadata": {},
   "outputs": [],
   "source": []
  }
 ],
 "metadata": {
  "kernelspec": {
   "display_name": "Python 3",
   "language": "python",
   "name": "python3"
  },
  "language_info": {
   "codemirror_mode": {
    "name": "ipython",
    "version": 3
   },
   "file_extension": ".py",
   "mimetype": "text/x-python",
   "name": "python",
   "nbconvert_exporter": "python",
   "pygments_lexer": "ipython3",
   "version": "3.6.4"
  }
 },
 "nbformat": 4,
 "nbformat_minor": 2
}
